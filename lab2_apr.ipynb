{
  "nbformat": 4,
  "nbformat_minor": 0,
  "metadata": {
    "colab": {
      "provenance": [],
      "toc_visible": true
    },
    "kernelspec": {
      "name": "python3",
      "display_name": "Python 3"
    },
    "language_info": {
      "name": "python"
    }
  },
  "cells": [
    {
      "cell_type": "markdown",
      "source": [
        "Установка используемой библиотеки с алгоритмом Apriori"
      ],
      "metadata": {
        "id": "X3oV3P6K_-Ep"
      }
    },
    {
      "cell_type": "code",
      "execution_count": null,
      "metadata": {
        "colab": {
          "base_uri": "https://localhost:8080/"
        },
        "id": "IbIuxUgR_7l6",
        "outputId": "6443e693-5f9d-4447-ea38-8f663ec98f0a"
      },
      "outputs": [
        {
          "output_type": "stream",
          "name": "stdout",
          "text": [
            "Collecting apyori\n",
            "  Downloading apyori-1.1.2.tar.gz (8.6 kB)\n",
            "  Preparing metadata (setup.py) ... \u001b[?25l\u001b[?25hdone\n",
            "Building wheels for collected packages: apyori\n",
            "  Building wheel for apyori (setup.py) ... \u001b[?25l\u001b[?25hdone\n",
            "  Created wheel for apyori: filename=apyori-1.1.2-py3-none-any.whl size=5954 sha256=1d16078aee43f8f14b339286e4a06af7241f4f2d1869cb48478411c0272973c5\n",
            "  Stored in directory: /root/.cache/pip/wheels/77/3d/a6/d317a6fb32be58a602b1e8c6b5d6f31f79322da554cad2a5ea\n",
            "Successfully built apyori\n",
            "Installing collected packages: apyori\n",
            "Successfully installed apyori-1.1.2\n"
          ]
        }
      ],
      "source": [
        "pip install apyori"
      ]
    },
    {
      "cell_type": "markdown",
      "source": [
        "Импорт необходимых библиотек"
      ],
      "metadata": {
        "id": "95wRtKyMABcj"
      }
    },
    {
      "cell_type": "code",
      "source": [
        "import time\n",
        "import pandas as pd\n",
        "import apyori\n",
        "import matplotlib.pyplot as plt"
      ],
      "metadata": {
        "id": "G8n9VvzdADLk"
      },
      "execution_count": null,
      "outputs": []
    },
    {
      "cell_type": "code",
      "source": [
        "from google.colab import files"
      ],
      "metadata": {
        "id": "CsklWOXcAHmk"
      },
      "execution_count": null,
      "outputs": []
    },
    {
      "cell_type": "markdown",
      "source": [
        "Выбираем файл\n",
        "\n"
      ],
      "metadata": {
        "id": "y7okdzckAE1h"
      }
    },
    {
      "cell_type": "code",
      "source": [
        "uploaded = files.upload()"
      ],
      "metadata": {
        "colab": {
          "base_uri": "https://localhost:8080/",
          "height": 73
        },
        "id": "X7RTh6VOAQqM",
        "outputId": "8e9d69ac-da0c-41e9-efd0-b9769e9ea543"
      },
      "execution_count": null,
      "outputs": [
        {
          "output_type": "display_data",
          "data": {
            "text/plain": [
              "<IPython.core.display.HTML object>"
            ],
            "text/html": [
              "\n",
              "     <input type=\"file\" id=\"files-66a7ae9e-aa90-4903-ba47-41bbce8c1a3e\" name=\"files[]\" multiple disabled\n",
              "        style=\"border:none\" />\n",
              "     <output id=\"result-66a7ae9e-aa90-4903-ba47-41bbce8c1a3e\">\n",
              "      Upload widget is only available when the cell has been executed in the\n",
              "      current browser session. Please rerun this cell to enable.\n",
              "      </output>\n",
              "      <script>// Copyright 2017 Google LLC\n",
              "//\n",
              "// Licensed under the Apache License, Version 2.0 (the \"License\");\n",
              "// you may not use this file except in compliance with the License.\n",
              "// You may obtain a copy of the License at\n",
              "//\n",
              "//      http://www.apache.org/licenses/LICENSE-2.0\n",
              "//\n",
              "// Unless required by applicable law or agreed to in writing, software\n",
              "// distributed under the License is distributed on an \"AS IS\" BASIS,\n",
              "// WITHOUT WARRANTIES OR CONDITIONS OF ANY KIND, either express or implied.\n",
              "// See the License for the specific language governing permissions and\n",
              "// limitations under the License.\n",
              "\n",
              "/**\n",
              " * @fileoverview Helpers for google.colab Python module.\n",
              " */\n",
              "(function(scope) {\n",
              "function span(text, styleAttributes = {}) {\n",
              "  const element = document.createElement('span');\n",
              "  element.textContent = text;\n",
              "  for (const key of Object.keys(styleAttributes)) {\n",
              "    element.style[key] = styleAttributes[key];\n",
              "  }\n",
              "  return element;\n",
              "}\n",
              "\n",
              "// Max number of bytes which will be uploaded at a time.\n",
              "const MAX_PAYLOAD_SIZE = 100 * 1024;\n",
              "\n",
              "function _uploadFiles(inputId, outputId) {\n",
              "  const steps = uploadFilesStep(inputId, outputId);\n",
              "  const outputElement = document.getElementById(outputId);\n",
              "  // Cache steps on the outputElement to make it available for the next call\n",
              "  // to uploadFilesContinue from Python.\n",
              "  outputElement.steps = steps;\n",
              "\n",
              "  return _uploadFilesContinue(outputId);\n",
              "}\n",
              "\n",
              "// This is roughly an async generator (not supported in the browser yet),\n",
              "// where there are multiple asynchronous steps and the Python side is going\n",
              "// to poll for completion of each step.\n",
              "// This uses a Promise to block the python side on completion of each step,\n",
              "// then passes the result of the previous step as the input to the next step.\n",
              "function _uploadFilesContinue(outputId) {\n",
              "  const outputElement = document.getElementById(outputId);\n",
              "  const steps = outputElement.steps;\n",
              "\n",
              "  const next = steps.next(outputElement.lastPromiseValue);\n",
              "  return Promise.resolve(next.value.promise).then((value) => {\n",
              "    // Cache the last promise value to make it available to the next\n",
              "    // step of the generator.\n",
              "    outputElement.lastPromiseValue = value;\n",
              "    return next.value.response;\n",
              "  });\n",
              "}\n",
              "\n",
              "/**\n",
              " * Generator function which is called between each async step of the upload\n",
              " * process.\n",
              " * @param {string} inputId Element ID of the input file picker element.\n",
              " * @param {string} outputId Element ID of the output display.\n",
              " * @return {!Iterable<!Object>} Iterable of next steps.\n",
              " */\n",
              "function* uploadFilesStep(inputId, outputId) {\n",
              "  const inputElement = document.getElementById(inputId);\n",
              "  inputElement.disabled = false;\n",
              "\n",
              "  const outputElement = document.getElementById(outputId);\n",
              "  outputElement.innerHTML = '';\n",
              "\n",
              "  const pickedPromise = new Promise((resolve) => {\n",
              "    inputElement.addEventListener('change', (e) => {\n",
              "      resolve(e.target.files);\n",
              "    });\n",
              "  });\n",
              "\n",
              "  const cancel = document.createElement('button');\n",
              "  inputElement.parentElement.appendChild(cancel);\n",
              "  cancel.textContent = 'Cancel upload';\n",
              "  const cancelPromise = new Promise((resolve) => {\n",
              "    cancel.onclick = () => {\n",
              "      resolve(null);\n",
              "    };\n",
              "  });\n",
              "\n",
              "  // Wait for the user to pick the files.\n",
              "  const files = yield {\n",
              "    promise: Promise.race([pickedPromise, cancelPromise]),\n",
              "    response: {\n",
              "      action: 'starting',\n",
              "    }\n",
              "  };\n",
              "\n",
              "  cancel.remove();\n",
              "\n",
              "  // Disable the input element since further picks are not allowed.\n",
              "  inputElement.disabled = true;\n",
              "\n",
              "  if (!files) {\n",
              "    return {\n",
              "      response: {\n",
              "        action: 'complete',\n",
              "      }\n",
              "    };\n",
              "  }\n",
              "\n",
              "  for (const file of files) {\n",
              "    const li = document.createElement('li');\n",
              "    li.append(span(file.name, {fontWeight: 'bold'}));\n",
              "    li.append(span(\n",
              "        `(${file.type || 'n/a'}) - ${file.size} bytes, ` +\n",
              "        `last modified: ${\n",
              "            file.lastModifiedDate ? file.lastModifiedDate.toLocaleDateString() :\n",
              "                                    'n/a'} - `));\n",
              "    const percent = span('0% done');\n",
              "    li.appendChild(percent);\n",
              "\n",
              "    outputElement.appendChild(li);\n",
              "\n",
              "    const fileDataPromise = new Promise((resolve) => {\n",
              "      const reader = new FileReader();\n",
              "      reader.onload = (e) => {\n",
              "        resolve(e.target.result);\n",
              "      };\n",
              "      reader.readAsArrayBuffer(file);\n",
              "    });\n",
              "    // Wait for the data to be ready.\n",
              "    let fileData = yield {\n",
              "      promise: fileDataPromise,\n",
              "      response: {\n",
              "        action: 'continue',\n",
              "      }\n",
              "    };\n",
              "\n",
              "    // Use a chunked sending to avoid message size limits. See b/62115660.\n",
              "    let position = 0;\n",
              "    do {\n",
              "      const length = Math.min(fileData.byteLength - position, MAX_PAYLOAD_SIZE);\n",
              "      const chunk = new Uint8Array(fileData, position, length);\n",
              "      position += length;\n",
              "\n",
              "      const base64 = btoa(String.fromCharCode.apply(null, chunk));\n",
              "      yield {\n",
              "        response: {\n",
              "          action: 'append',\n",
              "          file: file.name,\n",
              "          data: base64,\n",
              "        },\n",
              "      };\n",
              "\n",
              "      let percentDone = fileData.byteLength === 0 ?\n",
              "          100 :\n",
              "          Math.round((position / fileData.byteLength) * 100);\n",
              "      percent.textContent = `${percentDone}% done`;\n",
              "\n",
              "    } while (position < fileData.byteLength);\n",
              "  }\n",
              "\n",
              "  // All done.\n",
              "  yield {\n",
              "    response: {\n",
              "      action: 'complete',\n",
              "    }\n",
              "  };\n",
              "}\n",
              "\n",
              "scope.google = scope.google || {};\n",
              "scope.google.colab = scope.google.colab || {};\n",
              "scope.google.colab._files = {\n",
              "  _uploadFiles,\n",
              "  _uploadFilesContinue,\n",
              "};\n",
              "})(self);\n",
              "</script> "
            ]
          },
          "metadata": {}
        },
        {
          "output_type": "stream",
          "name": "stdout",
          "text": [
            "Saving baskets.csv to baskets.csv\n"
          ]
        }
      ]
    },
    {
      "cell_type": "markdown",
      "source": [
        "Для загрузки датасета нужен метод pd.read_csv. Это метод библиотеки pandas   \n",
        "Необходимо указать тот датасет, который был загружен выше"
      ],
      "metadata": {
        "id": "n2QzxGt_AZtW"
      }
    },
    {
      "cell_type": "code",
      "source": [
        "from IPython.core.interactiveshell import Unicode\n",
        "dataset = pd.read_csv('baskets.csv', encoding='cp1251', header = None)"
      ],
      "metadata": {
        "id": "i7sBMBs9Anhd"
      },
      "execution_count": null,
      "outputs": []
    },
    {
      "cell_type": "markdown",
      "source": [
        "Если у method установлено значение 'ffill'. Замена отсутвующих элементов допустимыми значениями\n",
        "inplace=True, сам исходный объект обновляется, если для axis аргумента задано значение 1, отсутствующие значения заменяются левым и правым значениями."
      ],
      "metadata": {
        "id": "4445NuJ4Aonf"
      }
    },
    {
      "cell_type": "code",
      "source": [
        "dataset.fillna(method = 'ffill', axis = 1, inplace = True) # Имеет тип данных <class 'pandas.core.frame.DataFrame'>\n",
        "dataset.shape"
      ],
      "metadata": {
        "colab": {
          "base_uri": "https://localhost:8080/"
        },
        "id": "_9YwQKMXAxm8",
        "outputId": "3c17bb83-1b28-43c2-9762-6a349f12668d"
      },
      "execution_count": null,
      "outputs": [
        {
          "output_type": "stream",
          "name": "stderr",
          "text": [
            "<ipython-input-8-32e3fe99a62f>:1: FutureWarning: DataFrame.fillna with 'method' is deprecated and will raise in a future version. Use obj.ffill() or obj.bfill() instead.\n",
            "  dataset.fillna(method = 'ffill', axis = 1, inplace = True) # Имеет тип данных <class 'pandas.core.frame.DataFrame'>\n"
          ]
        },
        {
          "output_type": "execute_result",
          "data": {
            "text/plain": [
              "(7501, 20)"
            ]
          },
          "metadata": {},
          "execution_count": 8
        }
      ]
    },
    {
      "cell_type": "markdown",
      "source": [
        "Создание массива транзакций. Т.е. таблицу выстраиваем в строку"
      ],
      "metadata": {
        "id": "UCj4nHa9A91-"
      }
    },
    {
      "cell_type": "code",
      "source": [
        "transactions = []\n",
        "for i in range(0, 7500):\n",
        " transactions.append([str(dataset.values[i,j]) for j in range(0, 20)])"
      ],
      "metadata": {
        "id": "IqxLZEQkBCDW"
      },
      "execution_count": null,
      "outputs": []
    },
    {
      "cell_type": "markdown",
      "source": [
        "Применение алгоритма; запись времени работы и количества частых наборов"
      ],
      "metadata": {
        "id": "34dwLe_nBMQ2"
      }
    },
    {
      "cell_type": "code",
      "source": [
        "sups = [0.05, 0.1, 0.15, 0.20, 0.25] # Коэффициент поддержки 5%, 10%, 15%, 20%, 25%.\n",
        "\n",
        "times, rules, results = [], [], []\n",
        "\n",
        "for sup in sups:\n",
        "    start = time.time()\n",
        "    # min_support = 0.03 - фиксированная поддержка в 3%, min_confidence = sup - подставляем значения достоверности\n",
        "    result = list(apyori.apriori(transactions = transactions, min_support = 0.03, min_confidence = sup))\n",
        "    end = time.time()\n",
        "\n",
        "    rules.append(len(result))\n",
        "    times.append(end - start)\n",
        "    results.append(result)"
      ],
      "metadata": {
        "id": "6K-vCWSxBOuW"
      },
      "execution_count": null,
      "outputs": []
    },
    {
      "cell_type": "code",
      "source": [
        "print('Время работы алгоритма:', times) # Вывод времени для каждой поддержки\n",
        "print('Количество наборов:', rules) #Пример- коефф. 0,01, время - 0.12682485580444336, кол-во наборов - 260"
      ],
      "metadata": {
        "colab": {
          "base_uri": "https://localhost:8080/"
        },
        "id": "ly5ul2OjBgtC",
        "outputId": "5a61f2f2-a783-49c4-e9bd-0f745e029fb4"
      },
      "execution_count": null,
      "outputs": [
        {
          "output_type": "stream",
          "name": "stdout",
          "text": [
            "Время работы алгоритма: [0.0275266170501709, 0.025728940963745117, 0.024949312210083008, 0.022866010665893555, 0.03321242332458496]\n",
            "Количество наборов: [44, 26, 24, 18, 9]\n"
          ]
        }
      ]
    },
    {
      "cell_type": "code",
      "source": [
        "s = []\n",
        "for i in sups:\n",
        "    s.append(str(i))\n",
        "\n",
        "plt.bar(s, times)\n",
        "plt.xlabel(\"Значение достоверности\")\n",
        "plt.ylabel(\"Время работы\")\n",
        "plt.show()"
      ],
      "metadata": {
        "colab": {
          "base_uri": "https://localhost:8080/",
          "height": 449
        },
        "id": "jgXfIVHuB8fs",
        "outputId": "6319b518-739c-44aa-b191-6e95882eae12"
      },
      "execution_count": null,
      "outputs": [
        {
          "output_type": "display_data",
          "data": {
            "text/plain": [
              "<Figure size 640x480 with 1 Axes>"
            ],
            "image/png": "[encoded data removed]"
          },
          "metadata": {}
        }
      ]
    },
    {
      "cell_type": "code",
      "source": [
        "plt.bar(s, rules)\n",
        "plt.xlabel(\"Значение достоверности\")\n",
        "plt.ylabel(\"Кол-во правил\")\n",
        "plt.show()"
      ],
      "metadata": {
        "colab": {
          "base_uri": "https://localhost:8080/",
          "height": 449
        },
        "id": "vrua1r-nB-0U",
        "outputId": "ca4dd0ed-20e5-45f4-ebb6-8b6a99484315"
      },
      "execution_count": null,
      "outputs": [
        {
          "output_type": "display_data",
          "data": {
            "text/plain": [
              "<Figure size 640x480 with 1 Axes>"
            ],
            "image/png": "[encoded data removed]"
          },
          "metadata": {}
        }
      ]
    },
    {
      "cell_type": "code",
      "source": [
        "result_rules = list(apyori.apriori(transactions = transactions, min_support = 0.03, min_confidence = sup)) # Ассоциативные правила\n",
        "result_rules"
      ],
      "metadata": {
        "colab": {
          "base_uri": "https://localhost:8080/"
        },
        "id": "fsmIJiAbQiLb",
        "outputId": "c416e665-5cbd-4ea2-cc0d-f4a428457b0b"
      },
      "execution_count": null,
      "outputs": [
        {
          "output_type": "execute_result",
          "data": {
            "text/plain": [
              "[RelationRecord(items=frozenset({'блинчики', 'минеральная вода'}), support=0.03373333333333333, ordered_statistics=[OrderedStatistic(items_base=frozenset({'блинчики'}), items_add=frozenset({'минеральная вода'}), confidence=0.3548387096774194, lift=1.4884174063650142)]),\n",
              " RelationRecord(items=frozenset({'макароны', 'говяжий фарш'}), support=0.040266666666666666, ordered_statistics=[OrderedStatistic(items_base=frozenset({'говяжий фарш'}), items_add=frozenset({'макароны'}), confidence=0.40976933514246944, lift=2.179624123098242)]),\n",
              " RelationRecord(items=frozenset({'минеральная вода', 'говяжий фарш'}), support=0.040933333333333335, ordered_statistics=[OrderedStatistic(items_base=frozenset({'говяжий фарш'}), items_add=frozenset({'минеральная вода'}), confidence=0.41655359565807326, lift=1.7472885723912468)]),\n",
              " RelationRecord(items=frozenset({'замороженные овощи', 'минеральная вода'}), support=0.03573333333333333, ordered_statistics=[OrderedStatistic(items_base=frozenset({'замороженные овощи'}), items_add=frozenset({'минеральная вода'}), confidence=0.3748251748251748, lift=1.572253250105599)]),\n",
              " RelationRecord(items=frozenset({'макароны', 'минеральная вода'}), support=0.0612, ordered_statistics=[OrderedStatistic(items_base=frozenset({'макароны'}), items_add=frozenset({'минеральная вода'}), confidence=0.325531914893617, lift=1.3654862201913465), OrderedStatistic(items_base=frozenset({'минеральная вода'}), items_add=frozenset({'макароны'}), confidence=0.25671140939597314, lift=1.3654862201913465)]),\n",
              " RelationRecord(items=frozenset({'макароны', 'молоко'}), support=0.03693333333333333, ordered_statistics=[OrderedStatistic(items_base=frozenset({'молоко'}), items_add=frozenset({'макароны'}), confidence=0.28497942386831276, lift=1.515847999299536)]),\n",
              " RelationRecord(items=frozenset({'молоко', 'минеральная вода'}), support=0.048, ordered_statistics=[OrderedStatistic(items_base=frozenset({'молоко'}), items_add=frozenset({'минеральная вода'}), confidence=0.3703703703703704, lift=1.5535669898086006)]),\n",
              " RelationRecord(items=frozenset({'шоколад', 'минеральная вода'}), support=0.05266666666666667, ordered_statistics=[OrderedStatistic(items_base=frozenset({'шоколад'}), items_add=frozenset({'минеральная вода'}), confidence=0.32139951179820997, lift=1.3481523145898069)]),\n",
              " RelationRecord(items=frozenset({'яйца', 'минеральная вода'}), support=0.05093333333333333, ordered_statistics=[OrderedStatistic(items_base=frozenset({'яйца'}), items_add=frozenset({'минеральная вода'}), confidence=0.2835931700074239, lift=1.189568666138523)])]"
            ]
          },
          "metadata": {},
          "execution_count": 13
        }
      ]
    },
    {
      "cell_type": "code",
      "source": [
        "def inspect(results):# Формируем удобочитаемый вывод ассоциативных правил\n",
        "    lhs         =[tuple(result[2][0][0])[0] for result in results]\n",
        "    rhs         =[tuple(result[2][0][1])[0] for result in results]\n",
        "    supports    =[result[1] for result in results]\n",
        "    confidences =[result[2][0][2] for result in results]\n",
        "    lifts        =[result[2][0][3] for result in results]\n",
        "    return list (zip(lhs, rhs, supports, confidences))\n",
        "resultsinDataFrame = pd.DataFrame(inspect(result), columns = [\"Антецедент\", \"Консеквент\", \"Поддержка\", \"Достоверность\"])"
      ],
      "metadata": {
        "id": "-1LwwDObQm7L"
      },
      "execution_count": null,
      "outputs": []
    },
    {
      "cell_type": "markdown",
      "source": [
        "Выводим правила отсортированные по \"Достоверность\". Кол-во правил соотвествует наибольшему значению достоверности"
      ],
      "metadata": {
        "id": "LKCZiAwMQsRk"
      }
    },
    {
      "cell_type": "code",
      "source": [
        "resultsinDataFrame.nlargest(n=20, columns = \"Достоверность\")"
      ],
      "metadata": {
        "colab": {
          "base_uri": "https://localhost:8080/",
          "height": 332
        },
        "id": "pSz8u-w5Qo3j",
        "outputId": "2c9f3940-0a9e-491c-f9ab-6dd6d1c6b982"
      },
      "execution_count": null,
      "outputs": [
        {
          "output_type": "execute_result",
          "data": {
            "text/plain": [
              "           Антецедент        Консеквент  Поддержка  Достоверность\n",
              "2        говяжий фарш  минеральная вода   0.040933       0.416554\n",
              "1        говяжий фарш          макароны   0.040267       0.409769\n",
              "3  замороженные овощи  минеральная вода   0.035733       0.374825\n",
              "6              молоко  минеральная вода   0.048000       0.370370\n",
              "0            блинчики  минеральная вода   0.033733       0.354839\n",
              "4            макароны  минеральная вода   0.061200       0.325532\n",
              "7             шоколад  минеральная вода   0.052667       0.321400\n",
              "5              молоко          макароны   0.036933       0.284979\n",
              "8                яйца  минеральная вода   0.050933       0.283593"
            ],
            "text/html": [
              "\n",
              "  <div id=\"df-e6e4b411-0691-47c6-9f0a-01ace7c843d5\" class=\"colab-df-container\">\n",
              "    <div>\n",
              "<style scoped>\n",
              "    .dataframe tbody tr th:only-of-type {\n",
              "        vertical-align: middle;\n",
              "    }\n",
              "\n",
              "    .dataframe tbody tr th {\n",
              "        vertical-align: top;\n",
              "    }\n",
              "\n",
              "    .dataframe thead th {\n",
              "        text-align: right;\n",
              "    }\n",
              "</style>\n",
              "<table border=\"1\" class=\"dataframe\">\n",
              "  <thead>\n",
              "    <tr style=\"text-align: right;\">\n",
              "      <th></th>\n",
              "      <th>Антецедент</th>\n",
              "      <th>Консеквент</th>\n",
              "      <th>Поддержка</th>\n",
              "      <th>Достоверность</th>\n",
              "    </tr>\n",
              "  </thead>\n",
              "  <tbody>\n",
              "    <tr>\n",
              "      <th>2</th>\n",
              "      <td>говяжий фарш</td>\n",
              "      <td>минеральная вода</td>\n",
              "      <td>0.040933</td>\n",
              "      <td>0.416554</td>\n",
              "    </tr>\n",
              "    <tr>\n",
              "      <th>1</th>\n",
              "      <td>говяжий фарш</td>\n",
              "      <td>макароны</td>\n",
              "      <td>0.040267</td>\n",
              "      <td>0.409769</td>\n",
              "    </tr>\n",
              "    <tr>\n",
              "      <th>3</th>\n",
              "      <td>замороженные овощи</td>\n",
              "      <td>минеральная вода</td>\n",
              "      <td>0.035733</td>\n",
              "      <td>0.374825</td>\n",
              "    </tr>\n",
              "    <tr>\n",
              "      <th>6</th>\n",
              "      <td>молоко</td>\n",
              "      <td>минеральная вода</td>\n",
              "      <td>0.048000</td>\n",
              "      <td>0.370370</td>\n",
              "    </tr>\n",
              "    <tr>\n",
              "      <th>0</th>\n",
              "      <td>блинчики</td>\n",
              "      <td>минеральная вода</td>\n",
              "      <td>0.033733</td>\n",
              "      <td>0.354839</td>\n",
              "    </tr>\n",
              "    <tr>\n",
              "      <th>4</th>\n",
              "      <td>макароны</td>\n",
              "      <td>минеральная вода</td>\n",
              "      <td>0.061200</td>\n",
              "      <td>0.325532</td>\n",
              "    </tr>\n",
              "    <tr>\n",
              "      <th>7</th>\n",
              "      <td>шоколад</td>\n",
              "      <td>минеральная вода</td>\n",
              "      <td>0.052667</td>\n",
              "      <td>0.321400</td>\n",
              "    </tr>\n",
              "    <tr>\n",
              "      <th>5</th>\n",
              "      <td>молоко</td>\n",
              "      <td>макароны</td>\n",
              "      <td>0.036933</td>\n",
              "      <td>0.284979</td>\n",
              "    </tr>\n",
              "    <tr>\n",
              "      <th>8</th>\n",
              "      <td>яйца</td>\n",
              "      <td>минеральная вода</td>\n",
              "      <td>0.050933</td>\n",
              "      <td>0.283593</td>\n",
              "    </tr>\n",
              "  </tbody>\n",
              "</table>\n",
              "</div>\n",
              "    <div class=\"colab-df-buttons\">\n",
              "\n",
              "  <div class=\"colab-df-container\">\n",
              "    <button class=\"colab-df-convert\" onclick=\"convertToInteractive('df-e6e4b411-0691-47c6-9f0a-01ace7c843d5')\"\n",
              "            title=\"Convert this dataframe to an interactive table.\"\n",
              "            style=\"display:none;\">\n",
              "\n",
              "  <svg xmlns=\"http://www.w3.org/2000/svg\" height=\"24px\" viewBox=\"0 -960 960 960\">\n",
              "    <path d=\"M120-120v-720h720v720H120Zm60-500h600v-160H180v160Zm220 220h160v-160H400v160Zm0 220h160v-160H400v160ZM180-400h160v-160H180v160Zm440 0h160v-160H620v160ZM180-180h160v-160H180v160Zm440 0h160v-160H620v160Z\"/>\n",
              "  </svg>\n",
              "    </button>\n",
              "\n",
              "  <style>\n",
              "    .colab-df-container {\n",
              "      display:flex;\n",
              "      gap: 12px;\n",
              "    }\n",
              "\n",
              "    .colab-df-convert {\n",
              "      background-color: #E8F0FE;\n",
              "      border: none;\n",
              "      border-radius: 50%;\n",
              "      cursor: pointer;\n",
              "      display: none;\n",
              "      fill: #1967D2;\n",
              "      height: 32px;\n",
              "      padding: 0 0 0 0;\n",
              "      width: 32px;\n",
              "    }\n",
              "\n",
              "    .colab-df-convert:hover {\n",
              "      background-color: #E2EBFA;\n",
              "      box-shadow: 0px 1px 2px rgba(60, 64, 67, 0.3), 0px 1px 3px 1px rgba(60, 64, 67, 0.15);\n",
              "      fill: #174EA6;\n",
              "    }\n",
              "\n",
              "    .colab-df-buttons div {\n",
              "      margin-bottom: 4px;\n",
              "    }\n",
              "\n",
              "    [theme=dark] .colab-df-convert {\n",
              "      background-color: #3B4455;\n",
              "      fill: #D2E3FC;\n",
              "    }\n",
              "\n",
              "    [theme=dark] .colab-df-convert:hover {\n",
              "      background-color: #434B5C;\n",
              "      box-shadow: 0px 1px 3px 1px rgba(0, 0, 0, 0.15);\n",
              "      filter: drop-shadow(0px 1px 2px rgba(0, 0, 0, 0.3));\n",
              "      fill: #FFFFFF;\n",
              "    }\n",
              "  </style>\n",
              "\n",
              "    <script>\n",
              "      const buttonEl =\n",
              "        document.querySelector('#df-e6e4b411-0691-47c6-9f0a-01ace7c843d5 button.colab-df-convert');\n",
              "      buttonEl.style.display =\n",
              "        google.colab.kernel.accessAllowed ? 'block' : 'none';\n",
              "\n",
              "      async function convertToInteractive(key) {\n",
              "        const element = document.querySelector('#df-e6e4b411-0691-47c6-9f0a-01ace7c843d5');\n",
              "        const dataTable =\n",
              "          await google.colab.kernel.invokeFunction('convertToInteractive',\n",
              "                                                    [key], {});\n",
              "        if (!dataTable) return;\n",
              "\n",
              "        const docLinkHtml = 'Like what you see? Visit the ' +\n",
              "          '<a target=\"_blank\" href=https://colab.research.google.com/notebooks/data_table.ipynb>data table notebook</a>'\n",
              "          + ' to learn more about interactive tables.';\n",
              "        element.innerHTML = '';\n",
              "        dataTable['output_type'] = 'display_data';\n",
              "        await google.colab.output.renderOutput(dataTable, element);\n",
              "        const docLink = document.createElement('div');\n",
              "        docLink.innerHTML = docLinkHtml;\n",
              "        element.appendChild(docLink);\n",
              "      }\n",
              "    </script>\n",
              "  </div>\n",
              "\n",
              "\n",
              "<div id=\"df-f36295bd-622e-4653-8907-5159a2e33e0a\">\n",
              "  <button class=\"colab-df-quickchart\" onclick=\"quickchart('df-f36295bd-622e-4653-8907-5159a2e33e0a')\"\n",
              "            title=\"Suggest charts\"\n",
              "            style=\"display:none;\">\n",
              "\n",
              "<svg xmlns=\"http://www.w3.org/2000/svg\" height=\"24px\"viewBox=\"0 0 24 24\"\n",
              "     width=\"24px\">\n",
              "    <g>\n",
              "        <path d=\"M19 3H5c-1.1 0-2 .9-2 2v14c0 1.1.9 2 2 2h14c1.1 0 2-.9 2-2V5c0-1.1-.9-2-2-2zM9 17H7v-7h2v7zm4 0h-2V7h2v10zm4 0h-2v-4h2v4z\"/>\n",
              "    </g>\n",
              "</svg>\n",
              "  </button>\n",
              "\n",
              "<style>\n",
              "  .colab-df-quickchart {\n",
              "      --bg-color: #E8F0FE;\n",
              "      --fill-color: #1967D2;\n",
              "      --hover-bg-color: #E2EBFA;\n",
              "      --hover-fill-color: #174EA6;\n",
              "      --disabled-fill-color: #AAA;\n",
              "      --disabled-bg-color: #DDD;\n",
              "  }\n",
              "\n",
              "  [theme=dark] .colab-df-quickchart {\n",
              "      --bg-color: #3B4455;\n",
              "      --fill-color: #D2E3FC;\n",
              "      --hover-bg-color: #434B5C;\n",
              "      --hover-fill-color: #FFFFFF;\n",
              "      --disabled-bg-color: #3B4455;\n",
              "      --disabled-fill-color: #666;\n",
              "  }\n",
              "\n",
              "  .colab-df-quickchart {\n",
              "    background-color: var(--bg-color);\n",
              "    border: none;\n",
              "    border-radius: 50%;\n",
              "    cursor: pointer;\n",
              "    display: none;\n",
              "    fill: var(--fill-color);\n",
              "    height: 32px;\n",
              "    padding: 0;\n",
              "    width: 32px;\n",
              "  }\n",
              "\n",
              "  .colab-df-quickchart:hover {\n",
              "    background-color: var(--hover-bg-color);\n",
              "    box-shadow: 0 1px 2px rgba(60, 64, 67, 0.3), 0 1px 3px 1px rgba(60, 64, 67, 0.15);\n",
              "    fill: var(--button-hover-fill-color);\n",
              "  }\n",
              "\n",
              "  .colab-df-quickchart-complete:disabled,\n",
              "  .colab-df-quickchart-complete:disabled:hover {\n",
              "    background-color: var(--disabled-bg-color);\n",
              "    fill: var(--disabled-fill-color);\n",
              "    box-shadow: none;\n",
              "  }\n",
              "\n",
              "  .colab-df-spinner {\n",
              "    border: 2px solid var(--fill-color);\n",
              "    border-color: transparent;\n",
              "    border-bottom-color: var(--fill-color);\n",
              "    animation:\n",
              "      spin 1s steps(1) infinite;\n",
              "  }\n",
              "\n",
              "  @keyframes spin {\n",
              "    0% {\n",
              "      border-color: transparent;\n",
              "      border-bottom-color: var(--fill-color);\n",
              "      border-left-color: var(--fill-color);\n",
              "    }\n",
              "    20% {\n",
              "      border-color: transparent;\n",
              "      border-left-color: var(--fill-color);\n",
              "      border-top-color: var(--fill-color);\n",
              "    }\n",
              "    30% {\n",
              "      border-color: transparent;\n",
              "      border-left-color: var(--fill-color);\n",
              "      border-top-color: var(--fill-color);\n",
              "      border-right-color: var(--fill-color);\n",
              "    }\n",
              "    40% {\n",
              "      border-color: transparent;\n",
              "      border-right-color: var(--fill-color);\n",
              "      border-top-color: var(--fill-color);\n",
              "    }\n",
              "    60% {\n",
              "      border-color: transparent;\n",
              "      border-right-color: var(--fill-color);\n",
              "    }\n",
              "    80% {\n",
              "      border-color: transparent;\n",
              "      border-right-color: var(--fill-color);\n",
              "      border-bottom-color: var(--fill-color);\n",
              "    }\n",
              "    90% {\n",
              "      border-color: transparent;\n",
              "      border-bottom-color: var(--fill-color);\n",
              "    }\n",
              "  }\n",
              "</style>\n",
              "\n",
              "  <script>\n",
              "    async function quickchart(key) {\n",
              "      const quickchartButtonEl =\n",
              "        document.querySelector('#' + key + ' button');\n",
              "      quickchartButtonEl.disabled = true;  // To prevent multiple clicks.\n",
              "      quickchartButtonEl.classList.add('colab-df-spinner');\n",
              "      try {\n",
              "        const charts = await google.colab.kernel.invokeFunction(\n",
              "            'suggestCharts', [key], {});\n",
              "      } catch (error) {\n",
              "        console.error('Error during call to suggestCharts:', error);\n",
              "      }\n",
              "      quickchartButtonEl.classList.remove('colab-df-spinner');\n",
              "      quickchartButtonEl.classList.add('colab-df-quickchart-complete');\n",
              "    }\n",
              "    (() => {\n",
              "      let quickchartButtonEl =\n",
              "        document.querySelector('#df-f36295bd-622e-4653-8907-5159a2e33e0a button');\n",
              "      quickchartButtonEl.style.display =\n",
              "        google.colab.kernel.accessAllowed ? 'block' : 'none';\n",
              "    })();\n",
              "  </script>\n",
              "</div>\n",
              "    </div>\n",
              "  </div>\n"
            ],
            "application/vnd.google.colaboratory.intrinsic+json": {
              "type": "dataframe",
              "summary": "{\n  \"name\": \"resultsinDataFrame\",\n  \"rows\": 9,\n  \"fields\": [\n    {\n      \"column\": \"\\u0410\\u043d\\u0442\\u0435\\u0446\\u0435\\u0434\\u0435\\u043d\\u0442\",\n      \"properties\": {\n        \"dtype\": \"string\",\n        \"num_unique_values\": 7,\n        \"samples\": [\n          \"\\u0433\\u043e\\u0432\\u044f\\u0436\\u0438\\u0439 \\u0444\\u0430\\u0440\\u0448\",\n          \"\\u0437\\u0430\\u043c\\u043e\\u0440\\u043e\\u0436\\u0435\\u043d\\u043d\\u044b\\u0435 \\u043e\\u0432\\u043e\\u0449\\u0438\",\n          \"\\u0448\\u043e\\u043a\\u043e\\u043b\\u0430\\u0434\"\n        ],\n        \"semantic_type\": \"\",\n        \"description\": \"\"\n      }\n    },\n    {\n      \"column\": \"\\u041a\\u043e\\u043d\\u0441\\u0435\\u043a\\u0432\\u0435\\u043d\\u0442\",\n      \"properties\": {\n        \"dtype\": \"category\",\n        \"num_unique_values\": 2,\n        \"samples\": [\n          \"\\u043c\\u0430\\u043a\\u0430\\u0440\\u043e\\u043d\\u044b\",\n          \"\\u043c\\u0438\\u043d\\u0435\\u0440\\u0430\\u043b\\u044c\\u043d\\u0430\\u044f \\u0432\\u043e\\u0434\\u0430\"\n        ],\n        \"semantic_type\": \"\",\n        \"description\": \"\"\n      }\n    },\n    {\n      \"column\": \"\\u041f\\u043e\\u0434\\u0434\\u0435\\u0440\\u0436\\u043a\\u0430\",\n      \"properties\": {\n        \"dtype\": \"number\",\n        \"std\": 0.009218821327407678,\n        \"min\": 0.03373333333333333,\n        \"max\": 0.0612,\n        \"num_unique_values\": 9,\n        \"samples\": [\n          0.03693333333333333,\n          0.040266666666666666\n        ],\n        \"semantic_type\": \"\",\n        \"description\": \"\"\n      }\n    },\n    {\n      \"column\": \"\\u0414\\u043e\\u0441\\u0442\\u043e\\u0432\\u0435\\u0440\\u043d\\u043e\\u0441\\u0442\\u044c\",\n      \"properties\": {\n        \"dtype\": \"number\",\n        \"std\": 0.0488662286658563,\n        \"min\": 0.2835931700074239,\n        \"max\": 0.41655359565807326,\n        \"num_unique_values\": 9,\n        \"samples\": [\n          0.28497942386831276,\n          0.40976933514246944\n        ],\n        \"semantic_type\": \"\",\n        \"description\": \"\"\n      }\n    }\n  ]\n}"
            }
          },
          "metadata": {},
          "execution_count": 15
        }
      ]
    }
  ]
}